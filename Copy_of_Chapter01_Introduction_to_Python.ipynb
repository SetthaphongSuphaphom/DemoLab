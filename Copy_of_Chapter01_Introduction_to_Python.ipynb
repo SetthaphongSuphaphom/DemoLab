{
  "nbformat": 4,
  "nbformat_minor": 0,
  "metadata": {
    "colab": {
      "provenance": [],
      "include_colab_link": true
    },
    "kernelspec": {
      "display_name": "Python 3 (ipykernel)",
      "language": "python",
      "name": "python3"
    },
    "language_info": {
      "codemirror_mode": {
        "name": "ipython",
        "version": 3
      },
      "file_extension": ".py",
      "mimetype": "text/x-python",
      "name": "python",
      "nbconvert_exporter": "python",
      "pygments_lexer": "ipython3",
      "version": "3.8.11"
    }
  },
  "cells": [
    {
      "cell_type": "markdown",
      "metadata": {
        "id": "view-in-github",
        "colab_type": "text"
      },
      "source": [
        "<a href=\"https://colab.research.google.com/github/SetthaphongSuphaphom/DemoLab/blob/master/Copy_of_Chapter01_Introduction_to_Python.ipynb\" target=\"_parent\"><img src=\"https://colab.research.google.com/assets/colab-badge.svg\" alt=\"Open In Colab\"/></a>"
      ]
    },
    {
      "cell_type": "markdown",
      "metadata": {
        "id": "YXGF2BxpmgiK"
      },
      "source": [
        "# Introduction to Python\n",
        "\n",
        "ดร.ไพรสันต์  ผดุงเวียง <br>\n",
        "Dr.Praisan Padungweang\n",
        "\n",
        "2022"
      ]
    },
    {
      "cell_type": "markdown",
      "metadata": {
        "id": "cEYE_CXAmxbZ"
      },
      "source": [
        "# Outline\n",
        "* ภาษา Python เบื้องต้น\n",
        "* การเขียนโปรแกรมด้วยภาษา Python"
      ]
    },
    {
      "cell_type": "markdown",
      "metadata": {
        "id": "4RRJsHAX8TMa"
      },
      "source": [
        "# ภาษา Python เบื้องต้น\n",
        "\n",
        "---\n",
        "\n",
        "เนื่องจากคอมพิวเตอร์ทั้งเก็บข้อมูลและโปรแกรมเป็นเลขฐาน 2 และการทำงานของคอมพิวเตอร์ต้องบอกลำดับการทำงานที่ชัดเจน ดังนั้นการสั่งให้คอมพิวเตอร์ทำงานสักอย่างหนึ่งจึงเป็นเรื่องที่ค่อนข้างซับซ้อนการการให้คอมพิวเตอร์ทำงานสักหนึ่งคำสั่งนั้นต้องเข้าใจการลำดับเลขฐานสองตามรูปแบบที่ทำให้วงจรที่สร้างไว้ทำงานได้อย่างที่ต้องการ ดังนั้นจึงมีการพัฒนาโปรแกรมเพื่อแปลคำสั่งที่เข้าใจง่ายขึ้นโดยมนุษย์ไปเป็นคำสั่งที่เข้าใจและทำงานได้อย่างถูกต้องโดยคอมพิวเตอร์ โปรแกรมเหล่านี้เรียกว่าตัวแปลภาษาซึ่งจะแปลได้เฉพาะภาษาที่กำหนดโครงสร้างอย่างเฉพาะเจาะจงไว้เท่านั้น\n",
        "\n",
        "การเขียนโปรแกรมภาษาไพธอน จะเป็นการเขียนด้วยภาษาที่เข้าใจง่าย โปรแกรมแปลภาษาจะนำไปแปลให้เป็นคำสั่งให้คอมพิวเตอร์่ทำงานได้ตามลำดับจากบนลงล่าง"
      ]
    },
    {
      "cell_type": "code",
      "metadata": {
        "id": "0zhHaAFiJyHx",
        "colab": {
          "base_uri": "https://localhost:8080/"
        },
        "outputId": "e30fe3fb-b47b-49fd-e73d-53cdeeba1386"
      },
      "source": [
        "print('Hello world')"
      ],
      "execution_count": null,
      "outputs": [
        {
          "output_type": "stream",
          "name": "stdout",
          "text": [
            "Hello world\n"
          ]
        }
      ]
    },
    {
      "cell_type": "code",
      "metadata": {
        "id": "YwiYLVtCJ1ac",
        "colab": {
          "base_uri": "https://localhost:8080/"
        },
        "outputId": "34e0d196-9bf7-4db0-d29b-ce591dbea59d"
      },
      "source": [
        "print(10+2*5+20)"
      ],
      "execution_count": null,
      "outputs": [
        {
          "output_type": "stream",
          "name": "stdout",
          "text": [
            "40\n"
          ]
        }
      ]
    },
    {
      "cell_type": "code",
      "metadata": {
        "id": "0KB2_tSkKhWl",
        "colab": {
          "base_uri": "https://localhost:8080/"
        },
        "outputId": "ed2fa16a-88f4-4b1c-bbf9-20e968029de1"
      },
      "source": [
        "print('Hello world')\n",
        "print(10+2*5+20)\n",
        "print('Hello world')\n",
        "print('Hello world 2+3 =',2+3)\n",
        "print('Hello world 12 * 20 =', 12 * 20)\n",
        "print('Hello world 12 ยกกำลัง 4 = ', 12**4)"
      ],
      "execution_count": null,
      "outputs": [
        {
          "output_type": "stream",
          "name": "stdout",
          "text": [
            "Hello world\n",
            "40\n",
            "Hello world\n",
            "Hello world 2+3 = 5\n",
            "Hello world 12 * 20 = 240\n",
            "Hello world 12 ยกกำลัง 4 =  20736\n"
          ]
        }
      ]
    },
    {
      "cell_type": "markdown",
      "metadata": {
        "id": "o5mS30z4LM4w"
      },
      "source": [
        "การเยื้องปกติใช้การเว้นวรรค 2 หรือ 4 วรรค\n",
        "```python\n",
        "for i in range(5):\n",
        "    print(i)\n",
        "\n",
        "def my_function():\n",
        "    print(‘hello world’)\n",
        "```\n",
        "\n",
        "ความคิดเห็น (Comments) หรือคำอธิบาย\n",
        "```python\n",
        "# hash character for single line comment\n",
        "'''Triple quote for\n",
        "multiple lines comment'''\n",
        "```\n"
      ]
    },
    {
      "cell_type": "markdown",
      "metadata": {
        "id": "EWrUhVU68Isg"
      },
      "source": [
        "### การตั้งชื่อข้อมูล (ตัวแปร: variable)\n",
        "\n",
        "เราสามารถตั้งชื่อให้ตัวเลขหรือข้อมูลต่าง ๆ เพื่อให้ง่ายต่อการเรียกใช้ในภายหลังได้โดยใช้เครื่องหมายเท่ากับ ชื่อเหล่านี้เรียกว่าตัวแปร (variable)\n",
        "\n",
        "การตั้งชื่อตัวแปรจึงนิยมตั้งชื่อให้สื่อความหมายกับค่าที่ต้องการเก็บขณะโปรแกรมทำงาน เช่น age อาไว้เก็บอายุ salary เก็บเงินเดือนเป็นต้น"
      ]
    },
    {
      "cell_type": "code",
      "metadata": {
        "id": "fjVbL9N-tS4n",
        "colab": {
          "base_uri": "https://localhost:8080/"
        },
        "outputId": "ea3ac248-ee42-4dbd-8733-eed010716faf"
      },
      "source": [
        "age = 35\n",
        "salary = 35000\n",
        "print(age)"
      ],
      "execution_count": null,
      "outputs": [
        {
          "output_type": "stream",
          "name": "stdout",
          "text": [
            "35\n"
          ]
        }
      ]
    },
    {
      "cell_type": "code",
      "metadata": {
        "id": "MZZMsyAW7-LD",
        "colab": {
          "base_uri": "https://localhost:8080/"
        },
        "outputId": "78a461b3-6f88-41c9-b750-3b7caa656a61"
      },
      "source": [
        "age = age + 1\n",
        "print(age)"
      ],
      "execution_count": null,
      "outputs": [
        {
          "output_type": "stream",
          "name": "stdout",
          "text": [
            "36\n"
          ]
        }
      ]
    },
    {
      "cell_type": "markdown",
      "metadata": {
        "id": "JWUGD5u6KCPh"
      },
      "source": [
        "## การให้โปรแกรมเลือกทำ\n",
        "\n",
        "เราสามารถเปลี่ยนลำดับการทำงานเพื่อให้เลือกทำบางคำสั่งได้โดยใช้คำสั่งพิเศษที่แต่ละภาษาโปรแกรมเตรียมไว้ให้\n",
        "\n",
        "\n",
        "\n"
      ]
    },
    {
      "cell_type": "markdown",
      "metadata": {
        "id": "Vnt8y2F7oVd1"
      },
      "source": [
        "### if Statement\n",
        "\n",
        "```python\n",
        "if condition:\n",
        "    if-block\n",
        "```"
      ]
    },
    {
      "cell_type": "code",
      "metadata": {
        "id": "laHwGSs1ogEC",
        "colab": {
          "base_uri": "https://localhost:8080/"
        },
        "outputId": "bf2fc346-c101-4ae3-b33b-848558024196"
      },
      "source": [
        "if 12>5 or 1>5:\n",
        "    print(\"Hello world\")\n",
        "    print(\"Hello world\")\n",
        "    print(\"Hello world\")"
      ],
      "execution_count": null,
      "outputs": [
        {
          "output_type": "stream",
          "name": "stdout",
          "text": [
            "Hello world\n",
            "Hello world\n",
            "Hello world\n"
          ]
        }
      ]
    },
    {
      "cell_type": "code",
      "metadata": {
        "id": "0RUMkzGp9gnK",
        "colab": {
          "base_uri": "https://localhost:8080/"
        },
        "outputId": "b346201d-c4a2-488f-af7d-dcd269394a42"
      },
      "source": [
        "12>5 and 1>5"
      ],
      "execution_count": null,
      "outputs": [
        {
          "output_type": "execute_result",
          "data": {
            "text/plain": [
              "False"
            ]
          },
          "metadata": {},
          "execution_count": 7
        }
      ]
    },
    {
      "cell_type": "markdown",
      "metadata": {
        "id": "zdLkB6g_o3q2"
      },
      "source": [
        "### if…else statement\n",
        "\n",
        "```python\n",
        "if condition:\n",
        "    if-block\n",
        "else:\n",
        "    else-block\n",
        "```"
      ]
    },
    {
      "cell_type": "code",
      "metadata": {
        "id": "_ve05LbXo-jM",
        "colab": {
          "base_uri": "https://localhost:8080/"
        },
        "outputId": "2154d11c-9718-428b-e14f-0258af48629b"
      },
      "source": [
        "if 12<5:\n",
        "  print(\"Hello world\")\n",
        "  print(\"Hello world\")\n",
        "  print(\"Hello world\")\n",
        "else:\n",
        "  print(\"Hello world\")"
      ],
      "execution_count": null,
      "outputs": [
        {
          "output_type": "stream",
          "name": "stdout",
          "text": [
            "Hello world\n"
          ]
        }
      ]
    },
    {
      "cell_type": "code",
      "metadata": {
        "id": "E1Z9WkfRpHoz",
        "colab": {
          "base_uri": "https://localhost:8080/"
        },
        "outputId": "0ae42312-8217-494b-c988-7149dac7ef48"
      },
      "source": [
        "if True:\n",
        "  print(\"Hello world\")\n",
        "  print(\"Hello world\")\n",
        "  print(\"Hello world\")\n",
        "else:\n",
        "  print(\"Hello world\")"
      ],
      "execution_count": null,
      "outputs": [
        {
          "output_type": "stream",
          "name": "stdout",
          "text": [
            "Hello world\n",
            "Hello world\n",
            "Hello world\n"
          ]
        }
      ]
    },
    {
      "cell_type": "code",
      "metadata": {
        "id": "3826thBPrg-H",
        "colab": {
          "base_uri": "https://localhost:8080/"
        },
        "outputId": "d0efaf9c-d20a-4014-c2b6-f38a1dad140b"
      },
      "source": [
        "# Ternary Operator\n",
        "x = 'aaaa' if 12>5 else 'bbbb'\n",
        "\n",
        "print(x)"
      ],
      "execution_count": null,
      "outputs": [
        {
          "output_type": "stream",
          "name": "stdout",
          "text": [
            "aaaa\n"
          ]
        }
      ]
    },
    {
      "cell_type": "code",
      "metadata": {
        "id": "z1F3M51S-gEL",
        "colab": {
          "base_uri": "https://localhost:8080/"
        },
        "outputId": "612a4ac9-8116-4cc0-fbac-22adf31cfdc5"
      },
      "source": [
        "if 12>5:\n",
        "  x = 20\n",
        "else:\n",
        "  x = 5\n",
        "\n",
        "print(x)"
      ],
      "execution_count": null,
      "outputs": [
        {
          "output_type": "stream",
          "name": "stdout",
          "text": [
            "20\n"
          ]
        }
      ]
    },
    {
      "cell_type": "markdown",
      "metadata": {
        "id": "KdqMFJ4HpXp0"
      },
      "source": [
        "### if…elif…else statement\n",
        "\n",
        "```python\n",
        "if if-condition:\n",
        "    if-block\n",
        "elif elseif-condition1:\n",
        "    elif-block1\n",
        "elif elseif-condition2:\n",
        "    elif-block2\n",
        "...\n",
        "else:\n",
        "    else-block\n",
        "```"
      ]
    },
    {
      "cell_type": "code",
      "metadata": {
        "id": "VD8NbhYcpuCR",
        "colab": {
          "base_uri": "https://localhost:8080/"
        },
        "outputId": "ab83b52e-1b7b-4b7a-95ca-5cb18948a32a"
      },
      "source": [
        "if 2 > 5:\n",
        "    print('เดินตรงไป')\n",
        "elif 2 > 3:\n",
        "    print('เลี้ยวซ้าย')\n",
        "elif 2 < 1:\n",
        "    print('เลี้ยวขวา')\n",
        "else:\n",
        "    print('หยุด')"
      ],
      "execution_count": null,
      "outputs": [
        {
          "output_type": "stream",
          "name": "stdout",
          "text": [
            "หยุด\n"
          ]
        }
      ]
    },
    {
      "cell_type": "code",
      "metadata": {
        "id": "-pfjGQJPrOsw",
        "colab": {
          "base_uri": "https://localhost:8080/"
        },
        "outputId": "3ddb3237-fa39-41a0-b43c-684abccd18e9"
      },
      "source": [
        "if 2 > 5 and 3 > 5 or 15>4:\n",
        "   print('เดินตรงไป')\n",
        "   print('เดินตรงไป')\n",
        "   print('เดินตรงไป')\n",
        "   print('เดินตรงไป')\n",
        "elif 2 < 3:\n",
        "   print('เลี้ยวซ้าย')\n",
        "elif 2 < 1:\n",
        "   print('เลี้ยวขวา')\n",
        "else:\n",
        "   print('หยุด')"
      ],
      "execution_count": null,
      "outputs": [
        {
          "output_type": "stream",
          "name": "stdout",
          "text": [
            "เดินตรงไป\n",
            "เดินตรงไป\n",
            "เดินตรงไป\n",
            "เดินตรงไป\n"
          ]
        }
      ]
    },
    {
      "cell_type": "markdown",
      "metadata": {
        "id": "th_l0uFNpwLj"
      },
      "source": [
        "### 💡 Hands on\n",
        "* เขียนฟังก์ชันเพื่อคืนค่าตัวเลขที่มีค่าน้อยที่สุดจากตัวเลขที่รับเข้าไป 3 ตัวเลข\n",
        "* เขียนโปรแกรมเพื่อคำนวณภาษี โดยคำนวณรายรับประจำปี (income) จากเงินเดือน (salary) แล้วนำมาลบกับรายจ่ายลดหย่อนภาษี (deduction)  แล้วคำนวณภาษีดังตาราง\n",
        "\n",
        "| เงินได้สุทธิ | อัตราภาษี |\n",
        "| ----------- | -----------: |\n",
        "| น้อยกว่าหรือเท่ากับ 150,000 | ยกเว้น |\n",
        "|มากกว่า 150,000 ถึง 300,000|5%|\n",
        "|มากกว่า 300,000 ถึง 500,000|10%|\n",
        "|มากกว่า 500,000 ถึง 750,000|15%|\n",
        "|มากกว่า 750,000 ถึง 1,000,000|20%|\n",
        "|มากกว่า 1,000,000 ถึง 2,000,000|25%|\n",
        "|มากกว่า 2,000,000 ถึง 5,000,000|30%|\n",
        "|มากกว่า 5,000,000|35%|\n",
        "\n"
      ]
    },
    {
      "cell_type": "code",
      "source": [
        "a = int(input(\"กรอค่า salary : \"))\n",
        "def minFrmThree(a):\n"
      ],
      "metadata": {
        "colab": {
          "base_uri": "https://localhost:8080/"
        },
        "id": "06OMLlpWfgSD",
        "outputId": "e150259a-253c-43ea-9ab4-d5d176e6acc5"
      },
      "execution_count": null,
      "outputs": [
        {
          "name": "stdout",
          "output_type": "stream",
          "text": [
            "กรอค่า salary : 150\n"
          ]
        }
      ]
    },
    {
      "cell_type": "markdown",
      "metadata": {
        "id": "mpTXdL24LaGj"
      },
      "source": [
        "## การให้โปรแกรมทำซ้ำ\n",
        "\n",
        "ในบางครั้งประวัติต้องการให้โปรแกรมทำงานบางคำสั่งซ้ำกันตามจำนวนที่กำหนดหรืออาจจะซ้ำกันจนถึงเงื่อนไขที่เราต้องการแล้วค่อยหยุดทำ ในกรณีแบบนี้ภาษาโปรแกรมทุกภาษาจะเตรียมคำสั่งพิเศษไว้ให้ใช้งาน\n"
      ]
    },
    {
      "cell_type": "markdown",
      "metadata": {
        "id": "1d1Y8dfjrw2L"
      },
      "source": [
        "### for Loop with Range\n",
        "\n",
        "เราใช้ for Loop ในกรณีที่เรารู้จำนวนรอบที่ต้องการให้ทำงานซ้ำที่แน่นอน\n",
        "\n",
        "```python\n",
        "for index in range(n):\n",
        "    statement\n",
        "```\n",
        "\n",
        "```python\n",
        "range(start, stop, step)\n",
        "```"
      ]
    },
    {
      "cell_type": "code",
      "metadata": {
        "id": "wQezoZBJr5TV",
        "colab": {
          "base_uri": "https://localhost:8080/"
        },
        "outputId": "b3e580d8-d10e-40d4-83ef-c7d12fe8789a"
      },
      "source": [
        "for i in range(5):\n",
        "    print('Hello world ', i)"
      ],
      "execution_count": null,
      "outputs": [
        {
          "output_type": "stream",
          "name": "stdout",
          "text": [
            "Hello world  0\n",
            "Hello world  1\n",
            "Hello world  2\n",
            "Hello world  3\n",
            "Hello world  4\n"
          ]
        }
      ]
    },
    {
      "cell_type": "markdown",
      "metadata": {
        "id": "WQfm7JG9sfas"
      },
      "source": [
        "### while\n",
        "\n",
        "ในบางกรณีเราไม่ทราบจำนวนรอบที่แน่นอนในการทำซ้ำแต่ต้องการให้ทำงานไปจนถึงค่าที่กำหนด เราสามารถใช้ค่าที่กำหนดนั้นมาเพื่อเป็นเงื่อนไขในการหยุดทำงานได้\n",
        "\n",
        "```python\n",
        "while condition:  \n",
        "   body\n",
        "```"
      ]
    },
    {
      "cell_type": "code",
      "metadata": {
        "id": "FqZYPQzNsp_H",
        "colab": {
          "base_uri": "https://localhost:8080/"
        },
        "outputId": "2f078c57-ddfe-496e-a642-b7b71bb758e0"
      },
      "source": [
        "sum = 0\n",
        "while sum <1000:\n",
        "  sum = sum +3\n",
        "  print(sum)"
      ],
      "execution_count": null,
      "outputs": [
        {
          "output_type": "stream",
          "name": "stdout",
          "text": [
            "3\n",
            "6\n",
            "9\n",
            "12\n",
            "15\n",
            "18\n",
            "21\n",
            "24\n",
            "27\n",
            "30\n",
            "33\n",
            "36\n",
            "39\n",
            "42\n",
            "45\n",
            "48\n",
            "51\n",
            "54\n",
            "57\n",
            "60\n",
            "63\n",
            "66\n",
            "69\n",
            "72\n",
            "75\n",
            "78\n",
            "81\n",
            "84\n",
            "87\n",
            "90\n",
            "93\n",
            "96\n",
            "99\n",
            "102\n",
            "105\n",
            "108\n",
            "111\n",
            "114\n",
            "117\n",
            "120\n",
            "123\n",
            "126\n",
            "129\n",
            "132\n",
            "135\n",
            "138\n",
            "141\n",
            "144\n",
            "147\n",
            "150\n",
            "153\n",
            "156\n",
            "159\n",
            "162\n",
            "165\n",
            "168\n",
            "171\n",
            "174\n",
            "177\n",
            "180\n",
            "183\n",
            "186\n",
            "189\n",
            "192\n",
            "195\n",
            "198\n",
            "201\n",
            "204\n",
            "207\n",
            "210\n",
            "213\n",
            "216\n",
            "219\n",
            "222\n",
            "225\n",
            "228\n",
            "231\n",
            "234\n",
            "237\n",
            "240\n",
            "243\n",
            "246\n",
            "249\n",
            "252\n",
            "255\n",
            "258\n",
            "261\n",
            "264\n",
            "267\n",
            "270\n",
            "273\n",
            "276\n",
            "279\n",
            "282\n",
            "285\n",
            "288\n",
            "291\n",
            "294\n",
            "297\n",
            "300\n",
            "303\n",
            "306\n",
            "309\n",
            "312\n",
            "315\n",
            "318\n",
            "321\n",
            "324\n",
            "327\n",
            "330\n",
            "333\n",
            "336\n",
            "339\n",
            "342\n",
            "345\n",
            "348\n",
            "351\n",
            "354\n",
            "357\n",
            "360\n",
            "363\n",
            "366\n",
            "369\n",
            "372\n",
            "375\n",
            "378\n",
            "381\n",
            "384\n",
            "387\n",
            "390\n",
            "393\n",
            "396\n",
            "399\n",
            "402\n",
            "405\n",
            "408\n",
            "411\n",
            "414\n",
            "417\n",
            "420\n",
            "423\n",
            "426\n",
            "429\n",
            "432\n",
            "435\n",
            "438\n",
            "441\n",
            "444\n",
            "447\n",
            "450\n",
            "453\n",
            "456\n",
            "459\n",
            "462\n",
            "465\n",
            "468\n",
            "471\n",
            "474\n",
            "477\n",
            "480\n",
            "483\n",
            "486\n",
            "489\n",
            "492\n",
            "495\n",
            "498\n",
            "501\n",
            "504\n",
            "507\n",
            "510\n",
            "513\n",
            "516\n",
            "519\n",
            "522\n",
            "525\n",
            "528\n",
            "531\n",
            "534\n",
            "537\n",
            "540\n",
            "543\n",
            "546\n",
            "549\n",
            "552\n",
            "555\n",
            "558\n",
            "561\n",
            "564\n",
            "567\n",
            "570\n",
            "573\n",
            "576\n",
            "579\n",
            "582\n",
            "585\n",
            "588\n",
            "591\n",
            "594\n",
            "597\n",
            "600\n",
            "603\n",
            "606\n",
            "609\n",
            "612\n",
            "615\n",
            "618\n",
            "621\n",
            "624\n",
            "627\n",
            "630\n",
            "633\n",
            "636\n",
            "639\n",
            "642\n",
            "645\n",
            "648\n",
            "651\n",
            "654\n",
            "657\n",
            "660\n",
            "663\n",
            "666\n",
            "669\n",
            "672\n",
            "675\n",
            "678\n",
            "681\n",
            "684\n",
            "687\n",
            "690\n",
            "693\n",
            "696\n",
            "699\n",
            "702\n",
            "705\n",
            "708\n",
            "711\n",
            "714\n",
            "717\n",
            "720\n",
            "723\n",
            "726\n",
            "729\n",
            "732\n",
            "735\n",
            "738\n",
            "741\n",
            "744\n",
            "747\n",
            "750\n",
            "753\n",
            "756\n",
            "759\n",
            "762\n",
            "765\n",
            "768\n",
            "771\n",
            "774\n",
            "777\n",
            "780\n",
            "783\n",
            "786\n",
            "789\n",
            "792\n",
            "795\n",
            "798\n",
            "801\n",
            "804\n",
            "807\n",
            "810\n",
            "813\n",
            "816\n",
            "819\n",
            "822\n",
            "825\n",
            "828\n",
            "831\n",
            "834\n",
            "837\n",
            "840\n",
            "843\n",
            "846\n",
            "849\n",
            "852\n",
            "855\n",
            "858\n",
            "861\n",
            "864\n",
            "867\n",
            "870\n",
            "873\n",
            "876\n",
            "879\n",
            "882\n",
            "885\n",
            "888\n",
            "891\n",
            "894\n",
            "897\n",
            "900\n",
            "903\n",
            "906\n",
            "909\n",
            "912\n",
            "915\n",
            "918\n",
            "921\n",
            "924\n",
            "927\n",
            "930\n",
            "933\n",
            "936\n",
            "939\n",
            "942\n",
            "945\n",
            "948\n",
            "951\n",
            "954\n",
            "957\n",
            "960\n",
            "963\n",
            "966\n",
            "969\n",
            "972\n",
            "975\n",
            "978\n",
            "981\n",
            "984\n",
            "987\n",
            "990\n",
            "993\n",
            "996\n",
            "999\n",
            "1002\n"
          ]
        }
      ]
    },
    {
      "cell_type": "markdown",
      "metadata": {
        "id": "k82N-i3EvUj1"
      },
      "source": [
        "### 💡 Hands on\n",
        "* เขียนโปรแกรมเพื่อคำนวณค่าแฟกทอเรียลของตัวเลข\n",
        "* เขียนโปรแกรมเพื่อคำนวณดอกเบี้ย (interest) และยอดเงินคงเหลือ (balance) ในบัญชีของของบัญชีฝากประจำที่ฝากเงิน (deposit) จำนวนคงที่ทุกเดือน โดยคำนวณดอกเบี้ยให้ทุกเดือน กำหนดให้ดอกเบี้ยเงินฝากเป็น 1.5 เปอร์เซ็นต์ต่อปี"
      ]
    },
    {
      "cell_type": "code",
      "metadata": {
        "id": "OuEph5Q9UZBM",
        "colab": {
          "base_uri": "https://localhost:8080/"
        },
        "outputId": "74156ea8-051b-4511-cc54-f590f9e759b1"
      },
      "source": [
        "n=5\n",
        "fac=1\n",
        "for i in  range(2,n+1):\n",
        "  fac = fac * i\n",
        "\n",
        "print(fac)"
      ],
      "execution_count": null,
      "outputs": [
        {
          "output_type": "stream",
          "name": "stdout",
          "text": [
            "120\n"
          ]
        }
      ]
    },
    {
      "cell_type": "code",
      "metadata": {
        "id": "ToMAunynTaxk",
        "colab": {
          "base_uri": "https://localhost:8080/"
        },
        "outputId": "ac03d32d-6583-422f-8905-6c16f7282be3"
      },
      "source": [
        "#เขียนโปรแกรมเพื่อคำนวณค่าแฟกทอเรียลของตัวเลข\n",
        "n=0\n",
        "if n>0:\n",
        "  fac=1\n",
        "  for i in  range(2,n+1):\n",
        "    fac = fac * i\n",
        "elif n==0:\n",
        "  fac=1\n",
        "else:\n",
        "  fac=None\n",
        "\n",
        "print(fac)"
      ],
      "execution_count": null,
      "outputs": [
        {
          "output_type": "stream",
          "name": "stdout",
          "text": [
            "1\n"
          ]
        }
      ]
    },
    {
      "cell_type": "markdown",
      "metadata": {
        "id": "QStWBrKuNVCX"
      },
      "source": [
        "## การรวมกันทำงานหลาย ๆ คำสั่งให้เป็นคำสั่งเดียว\n",
        "การรวมหลายคำสั่งที่เกี่ยวข้องกันไว้ด้วยกันเพื่อให้สามารถเรียกใช้งานได้ง่าย\n",
        "\n",
        "การรวมคำสั่งหลายๆคำสั่งไว้ด้วยกันทำได้โดยการสร้าง**ฟังก์ชัน**แล้วเรียกใช้ผ่านชื่อฟังก์ชัน ฟังก์ชันนี้จะถูกแปลเป็นภาษาคอมพิวเตอร์ไว้ก่อนใช้และจะเก็บไว้ในหน่วยความจำขณะโปรแกรมทำงาน หากต้องการเรียกใช้ก็สามารถเรียกใช้ได้หลายครั้งโดยไม่ต้องแปลฟังก์ชันนั้นใหม่\n"
      ]
    },
    {
      "cell_type": "code",
      "metadata": {
        "id": "GlyQXOFeP9_3"
      },
      "source": [
        "# รวมคำส่งไว้ในชื่อ many_thing\n",
        "def many_thing():\n",
        "  print('Hello world')\n",
        "  print(10+2*5+20)\n",
        "  print('Hello world')\n",
        "  print('Hello world 2+3 =',2+3)\n",
        "  print('Hello world 12 * 20 =', 12 * 20)\n",
        "  print('Hello world 12 ยกกำลัง 4 = ', 12**4)"
      ],
      "execution_count": null,
      "outputs": []
    },
    {
      "cell_type": "code",
      "metadata": {
        "id": "Erf_BSg6QFq4",
        "colab": {
          "base_uri": "https://localhost:8080/"
        },
        "outputId": "7700b242-7aa0-4633-fa72-dfb1c6874e3b"
      },
      "source": [
        "# เรียกให้ทำงาน (เรียกใช้กี่ครั้งก็ได้)\n",
        "many_thing()\n",
        "many_thing()"
      ],
      "execution_count": null,
      "outputs": [
        {
          "output_type": "stream",
          "name": "stdout",
          "text": [
            "Hello world\n",
            "40\n",
            "Hello world\n",
            "Hello world 2+3 = 5\n",
            "Hello world 12 * 20 = 240\n",
            "Hello world 12 ยกกำลัง 4 =  20736\n",
            "Hello world\n",
            "40\n",
            "Hello world\n",
            "Hello world 2+3 = 5\n",
            "Hello world 12 * 20 = 240\n",
            "Hello world 12 ยกกำลัง 4 =  20736\n"
          ]
        }
      ]
    },
    {
      "cell_type": "code",
      "metadata": {
        "id": "Tebl44AIDmFr"
      },
      "source": [
        "def print10times(message='Hello'):\n",
        "  for i in range(10):\n",
        "    print(i,message)"
      ],
      "execution_count": null,
      "outputs": []
    },
    {
      "cell_type": "code",
      "metadata": {
        "id": "uHDzmweLD4sl",
        "colab": {
          "base_uri": "https://localhost:8080/"
        },
        "outputId": "5a56568c-3710-4c22-8614-087f0251f179"
      },
      "source": [
        "print10times('Aha')"
      ],
      "execution_count": null,
      "outputs": [
        {
          "output_type": "stream",
          "name": "stdout",
          "text": [
            "0 Aha\n",
            "1 Aha\n",
            "2 Aha\n",
            "3 Aha\n",
            "4 Aha\n",
            "5 Aha\n",
            "6 Aha\n",
            "7 Aha\n",
            "8 Aha\n",
            "9 Aha\n"
          ]
        }
      ]
    },
    {
      "cell_type": "code",
      "metadata": {
        "id": "4xGBl5NjyfCJ"
      },
      "source": [
        "def fib(n):    # write Fibonacci series up to n\n",
        "    a, b = 0, 1\n",
        "    while a < n:\n",
        "        print(a, end=' ')\n",
        "        a, b = b, a+b"
      ],
      "execution_count": null,
      "outputs": []
    },
    {
      "cell_type": "code",
      "metadata": {
        "id": "44aKTN1paRc8"
      },
      "source": [
        "def fib2(n):    # write Fibonacci series up to n\n",
        "    a, b = 0, 1\n",
        "    while a < n:\n",
        "        print(a, end=' ')\n",
        "        temp = a\n",
        "        a = b\n",
        "        b = temp+b\n",
        "        # a, b = b, a+b"
      ],
      "execution_count": null,
      "outputs": []
    },
    {
      "cell_type": "code",
      "metadata": {
        "id": "YO1nk9f0Zzqg",
        "colab": {
          "base_uri": "https://localhost:8080/"
        },
        "outputId": "35654536-61e3-45f0-aae6-c93255fa68e9"
      },
      "source": [
        "fib2(5)"
      ],
      "execution_count": null,
      "outputs": [
        {
          "output_type": "stream",
          "name": "stdout",
          "text": [
            "0 1 1 2 3 "
          ]
        }
      ]
    },
    {
      "cell_type": "code",
      "metadata": {
        "id": "b_bfHenMEE_T"
      },
      "source": [
        "# ฟังก์ชันที่มีการประมวลผลและส่งค่าผลลัพธ์ที่ประมูลได้กลับไปให้ผู้เรียกใช้\n",
        "def sum(a,b):\n",
        "  return a+b\n",
        "\n",
        "def cumulative_sum(x):\n",
        "  sum=0\n",
        "  for i in range(1,x+1):\n",
        "    sum = sum + i\n",
        "  return sum"
      ],
      "execution_count": null,
      "outputs": []
    },
    {
      "cell_type": "code",
      "metadata": {
        "id": "lSJ8HhMpEMYK"
      },
      "source": [
        "sum_ = sum(5,12)"
      ],
      "execution_count": null,
      "outputs": []
    },
    {
      "cell_type": "code",
      "metadata": {
        "id": "DArGcr7WEwwl",
        "colab": {
          "base_uri": "https://localhost:8080/"
        },
        "outputId": "e047db86-8e65-45d1-9bf3-27a3beb81ad4"
      },
      "source": [
        "total=cumulative_sum(3)\n",
        "total"
      ],
      "execution_count": null,
      "outputs": [
        {
          "output_type": "execute_result",
          "data": {
            "text/plain": [
              "6"
            ]
          },
          "metadata": {},
          "execution_count": 33
        }
      ]
    },
    {
      "cell_type": "markdown",
      "metadata": {
        "id": "xq8pRiau9IwK"
      },
      "source": [
        "# การเขียนโปรแกรมด้วยภาษา Python\n",
        "\n",
        "---\n"
      ]
    },
    {
      "cell_type": "markdown",
      "metadata": {
        "id": "cQtGfpdLoAlE"
      },
      "source": [
        "## ตัวแปร (Variables)\n",
        "\n",
        "ตัวแปรมีหน้าที่เอาไว้ให้สามารถเข้าถึงค่าที่เก็บไว้ในขณะที่โปรแกรมทำงานได้สะดวกกับผู้เขียนโปรแกรมมากขึ้น\n",
        "\n",
        "การระบุตัวแปรให้เข้าถึงข้อมูลใดนิยมเรียกว่าการกำหนดค่าซึ่งสามารถทำได้โดยใช้เครื่องหมาย = ซึ่งจะประมวลผลสิ่งที่อยู่ด้านขวามือของเครื่องหมาย = ก่อนเสมอ เช่น\n",
        "\n",
        "```python\n",
        "message = 'Hello'\n",
        "message = 820\n",
        "```\n",
        "\n",
        "บรรทัดแรก Python จะสร้าง object เพื่อเก็บคำว่า Hello แล้วสร้างตัวแปร message เพื่อชี้ไปยังตำแหน่งที่เก็บ object นี้ บรรทัดที่ 2 python จะสร้าง object เพื่อเก็บตัวเลข 820 จากนั้นจะเปลี่ยนตัวแปร message ให้ชี้ไปยังตำแหน่ง object ใหม่นี้ ดังแสดงในรูป"
      ]
    },
    {
      "cell_type": "code",
      "metadata": {
        "cellView": "form",
        "id": "ZfAc99O-vpy5",
        "colab": {
          "base_uri": "https://localhost:8080/",
          "height": 221
        },
        "outputId": "1dbd9833-4eba-4dfe-fa91-976be50652f7"
      },
      "source": [
        "#@title\n",
        "%%html\n",
        "<svg xmlns=\"http://www.w3.org/2000/svg\" viewBox=\"0 0 720 500\" width=\"400\" height=\"200\">\n",
        "\n",
        "  <defs>\n",
        "        <marker id=\"pointer\" markerWidth=\"10\" markerHeight=\"8\"\n",
        "\trefX=\"5.5\" refY=\"4.1\" orient=\"auto\" >\n",
        "        <polyline points=\"1 1, 8 4, 1 7\" />\n",
        "    </marker>\n",
        "  </defs>\n",
        "\n",
        "  <text  font-size=\"40\" stroke-width=\"0\"  y=\"30\" x=\"0\" stroke=\"#000\" fill=\"#330000\">1. message = 'Hello'</text>\n",
        "\n",
        "  <rect x=\"20\" y=\"50\" width=\"250\" height=\"80\" rx=\"10\" style=\"fill:red; stroke:black; fill-opacity:0.7\" />\n",
        "  <text  font-size=\"40\" stroke-width=\"0\"  y=\"100\" x=\"65\" stroke=\"#000\" fill=\"#330000\">message</text>\n",
        "\n",
        "  <rect x=\"400\" y=\"50\" width=\"250\" height=\"100\" rx=\"10\" style=\"fill:blue; stroke:black; fill-opacity:0.5;\" />\n",
        "  <text  font-size=\"40\" stroke-width=\"0\"  y=\"100\" x=\"465\" stroke=\"#000\" fill=\"#000033\">'Hello'</text>\n",
        "\n",
        "  <line stroke=\"#000\"  stroke-width=\"3\" y1=\"90\" x1=\"270\" y2=\"100\" x2=\"395\" marker-end=\"url(#pointer)\"/>\n",
        "\n",
        "\n",
        "  <text  font-size=\"40\" stroke-width=\"0\"  y=\"220\" x=\"0\" stroke=\"#000\" fill=\"#330000\">2. message = 820</text>\n",
        "\n",
        "  <rect x=\"20\" y=\"240\" width=\"250\" height=\"80\" rx=\"10\" style=\"fill:red; stroke:black; fill-opacity:0.7\" />\n",
        "  <text  font-size=\"40\" stroke-width=\"0\"  y=\"290\" x=\"65\" stroke=\"#000\" fill=\"#330000\">message</text>\n",
        "\n",
        "  <rect x=\"400\" y=\"240\" width=\"250\" height=\"100\" rx=\"10\" style=\"fill:blue; stroke:black; fill-opacity:0.2;\" />\n",
        "  <text  font-size=\"40\" stroke-width=\"0\"  y=\"290\" x=\"465\" stroke=\"#000\" fill=\"#000033\">'Hello'</text>\n",
        "\n",
        "  <rect x=\"400\" y=\"380\" width=\"250\" height=\"100\" rx=\"10\" style=\"fill:blue; stroke:black; fill-opacity:0.5;\" />\n",
        "  <text  font-size=\"40\" stroke-width=\"0\"  y=\"440\" x=\"480\" stroke=\"#000\" fill=\"#000033\">820</text>\n",
        "\n",
        "  <line stroke=\"#000\" stroke-width=\"3\" y1=\"280\" x1=\"270\" y2=\"430\" x2=\"395\" marker-end=\"url(#pointer)\" />\n",
        "\n",
        "</svg>"
      ],
      "execution_count": null,
      "outputs": [
        {
          "output_type": "display_data",
          "data": {
            "text/html": [
              "<svg xmlns=\"http://www.w3.org/2000/svg\" viewBox=\"0 0 720 500\" width=\"400\" height=\"200\">\n",
              "\n",
              "  <defs>\n",
              "        <marker id=\"pointer\" markerWidth=\"10\" markerHeight=\"8\" \n",
              "\trefX=\"5.5\" refY=\"4.1\" orient=\"auto\" >\n",
              "        <polyline points=\"1 1, 8 4, 1 7\" />\n",
              "    </marker>\n",
              "  </defs>\n",
              "\n",
              "  <text  font-size=\"40\" stroke-width=\"0\"  y=\"30\" x=\"0\" stroke=\"#000\" fill=\"#330000\">1. message = 'Hello'</text>\n",
              "\n",
              "  <rect x=\"20\" y=\"50\" width=\"250\" height=\"80\" rx=\"10\" style=\"fill:red; stroke:black; fill-opacity:0.7\" />\n",
              "  <text  font-size=\"40\" stroke-width=\"0\"  y=\"100\" x=\"65\" stroke=\"#000\" fill=\"#330000\">message</text>\n",
              "\n",
              "  <rect x=\"400\" y=\"50\" width=\"250\" height=\"100\" rx=\"10\" style=\"fill:blue; stroke:black; fill-opacity:0.5;\" />\n",
              "  <text  font-size=\"40\" stroke-width=\"0\"  y=\"100\" x=\"465\" stroke=\"#000\" fill=\"#000033\">'Hello'</text>\n",
              "  \n",
              "  <line stroke=\"#000\"  stroke-width=\"3\" y1=\"90\" x1=\"270\" y2=\"100\" x2=\"395\" marker-end=\"url(#pointer)\"/>\n",
              " \n",
              " \n",
              "  <text  font-size=\"40\" stroke-width=\"0\"  y=\"220\" x=\"0\" stroke=\"#000\" fill=\"#330000\">2. message = 820</text>\n",
              "\n",
              "  <rect x=\"20\" y=\"240\" width=\"250\" height=\"80\" rx=\"10\" style=\"fill:red; stroke:black; fill-opacity:0.7\" />\n",
              "  <text  font-size=\"40\" stroke-width=\"0\"  y=\"290\" x=\"65\" stroke=\"#000\" fill=\"#330000\">message</text>\n",
              "\n",
              "  <rect x=\"400\" y=\"240\" width=\"250\" height=\"100\" rx=\"10\" style=\"fill:blue; stroke:black; fill-opacity:0.2;\" />\n",
              "  <text  font-size=\"40\" stroke-width=\"0\"  y=\"290\" x=\"465\" stroke=\"#000\" fill=\"#000033\">'Hello'</text>\n",
              "\n",
              "  <rect x=\"400\" y=\"380\" width=\"250\" height=\"100\" rx=\"10\" style=\"fill:blue; stroke:black; fill-opacity:0.5;\" />\n",
              "  <text  font-size=\"40\" stroke-width=\"0\"  y=\"440\" x=\"480\" stroke=\"#000\" fill=\"#000033\">820</text>\n",
              "\n",
              "  <line stroke=\"#000\" stroke-width=\"3\" y1=\"280\" x1=\"270\" y2=\"430\" x2=\"395\" marker-end=\"url(#pointer)\" />\n",
              "\n",
              "</svg>"
            ],
            "text/plain": [
              "<IPython.core.display.HTML object>"
            ]
          },
          "metadata": {}
        }
      ]
    },
    {
      "cell_type": "markdown",
      "metadata": {
        "id": "-a44_a2c7oQz"
      },
      "source": [
        "เนื่องจากคอมพิวเตอร์เก็บได้แต่เลขฐานสองเท่านั้นการเก็บค่าหรือข้อมูลต่างๆ จึงจำเป็นต้องแปลงให้อยู่ในรูปของเลขฐานสอง ซึ่งการแปลงข้อมูลแต่ละชนิดก็ใช้วิธีการแปลงแตกต่างกัน ดังต่อไปนี้"
      ]
    },
    {
      "cell_type": "markdown",
      "metadata": {
        "id": "nN_TkPG8vMwh"
      },
      "source": [
        "### เลขจำนวนเต็ม (integer)\n",
        "\n",
        "เลขจำนวนเต็มสามารถแปลงเป็นเลขฐานสองได้โดยตรงและเก็บเป็นชนิดข้อมูลจำนวนเต็ม เช่น ชนิดข้อมูลจำนวนเต็มขนาด 16 บิตของคอมพิวเตอร์ จะเก็บตัวเลขจำนวนเต็มบวกและจำนวนเต็มลบที่แปลงเป็นเลขฐาน 2 จำนวน 16 บิต เช่น เลข 10 สามารถแปลงเป็นเลขฐาน 2 ได้ `0000 0000 0000 1010`\n",
        "\n",
        "ปกติจะเก็บเลขจำนวนเต็มขนาด 32 บิต ซึ่งสามารถเก็บตัวเลขจำนวนเต็มที่มีค่าอยู่ในช่วง -2,147,483,648 ถึง 2,147,483,647 หากมีค่าเกินช่วงนี้จะไม่สามารถเก็บได้เรียกว่าล้น (overflow) จะทำให้ค่าที่เก็บในคอมพิวเตอร์ไม่ตรงกับค่าที่ต้องการเก็บจริง ๆ ภาษาคอมพิวเตอร์ส่วนมากจะมีวิธีการป้องกันความผิดพลาดเหล่านี้\n",
        "\n",
        "ในภาษา python จะใช้จำนวนบิตใขึ้นอยู่กับค่าของจำนวนเต็มที่ต้องการเก็บเช่น 8  16  32  64 เป็นต้น  \n",
        "\n",
        "\n",
        "```python\n",
        "# ตัวอย่างของการเขียนใน Python\n",
        "\n",
        "x = 20       \n",
        "# 1. สร้าง Object ชนิด int ที่เก็บเลข 20\n",
        "# 2. ให้ x ชี้มาที่ตำแหน่งที่เก็บนี้\n",
        "\n",
        "y = x * 2    \n",
        "# 1. เอาค่าที่ x ชี้อยู่มาบวกกับเลข 2 แล้วคืนค่าเป็น Object ชนิด int ที่เก็บผลลัพธ์\n",
        "# 2. ให้ y ชี้มาที่ตำแหน่ง Object ที่เก็บผลลัพธ์นี้\n",
        "\n",
        "```"
      ]
    },
    {
      "cell_type": "markdown",
      "metadata": {
        "id": "3vtTpzAkvPbT"
      },
      "source": [
        "\n",
        "### จำนวนจริง (real number)\n",
        "\n",
        "จำนวนจริงไม่ว่าจะเป็นเลขจำนวนเต็มและเลขทศนิยมจะแปลงตามรูปแบบจำนวนจุดลอยตัว (floating-point) Python ใช้ 8 ไบต์ หรือ 64 บิต เพื่อแทนจำนวนจริงและจะใช้ขนาดคงที่ไม่เปลี่ยนแปลง ตามรูปแบบของจุดลอยตัวที่มีความแม่นยำสองเท่าแบบ IEEE 754 double-precision สามารถเก็บค่าอยู่ในช่วงประมาณ $\\pm 10 ^{- 323.3}$ ถึง  $\\pm 10 ^ {308.3}$\n",
        "\n",
        "เลขทศนิยมฐาน 2 มีการแทนคล้ายคลึงกับการแทนในเลขฐานสิบเช่น $0.1001_2 = 1\\times2^{-1} + 0\\times2^{-2} + 0\\times2^{-3} + 1\\times2^{-4} = 1/2 + 0 + 0 + 1/16 = 0.5625_{10} $\n",
        "\n",
        "เลขฐาน 10 บางตัวอาจจะไม่สามารถแทนด้วยตัวเลขฐานสองได้ลงตัว ซึ่งก็จะใช้ค่าที่ใกล้เคียงที่สุดแทน เช่นเลข 0.1  เมื่อแปลงเป็นเลขฐานสองตาม IEEE 754 double-precision แล้วจะได้ `00111111 10111001 10011001 10011001 10011001 10011001 10011001 10011010` แล้วการแปลงกลับจะมีค่าประมาณ  `0.100000000000000005551115123126`\n",
        "ในขณะที่เลข 0.3 เมื่อแปลงเป็นเลขฐานสองแล้วการแปลงกลับจะมีค่าประมาณ `0.299999999999999988897769753748` เป็นต้น\n",
        "\n"
      ]
    },
    {
      "cell_type": "code",
      "metadata": {
        "id": "rTqyxjZ8A_zP",
        "colab": {
          "base_uri": "https://localhost:8080/"
        },
        "outputId": "88760f8b-3a5a-4019-e108-c67bcb3db740"
      },
      "source": [
        "x = 0.1 + 0.1 + 0.1\n",
        "y = 0.3\n",
        "print(x,y)\n",
        "\n",
        "print(x == y)"
      ],
      "execution_count": null,
      "outputs": [
        {
          "output_type": "stream",
          "name": "stdout",
          "text": [
            "0.30000000000000004 0.3\n",
            "False\n"
          ]
        }
      ]
    },
    {
      "cell_type": "code",
      "metadata": {
        "id": "q1CZyHB2BE-u",
        "colab": {
          "base_uri": "https://localhost:8080/"
        },
        "outputId": "59d29b89-e674-42fb-abe4-a58a5578d136"
      },
      "source": [
        "print(format(x, '.20f'))\n",
        "print(format(y, '.20f'))"
      ],
      "execution_count": null,
      "outputs": [
        {
          "output_type": "stream",
          "name": "stdout",
          "text": [
            "0.30000000000000004441\n",
            "0.29999999999999998890\n"
          ]
        }
      ]
    },
    {
      "cell_type": "code",
      "metadata": {
        "id": "LjisucPuBr17",
        "colab": {
          "base_uri": "https://localhost:8080/"
        },
        "outputId": "c403b21b-1f01-40b4-acc0-b6a14a364776"
      },
      "source": [
        "print(round(x, 3) == round(y, 3))"
      ],
      "execution_count": null,
      "outputs": [
        {
          "output_type": "stream",
          "name": "stdout",
          "text": [
            "True\n"
          ]
        }
      ]
    },
    {
      "cell_type": "code",
      "metadata": {
        "id": "_jNt-cG1APOp",
        "colab": {
          "base_uri": "https://localhost:8080/"
        },
        "outputId": "30b5942e-9f1a-442a-f31a-e2525dec7ed8"
      },
      "source": [
        "x= 1/10\n",
        "y= 0.1\n",
        "\n",
        "if x ==y :\n",
        "  print(\"Equal\")\n",
        "else:\n",
        "  print('Not equal')"
      ],
      "execution_count": null,
      "outputs": [
        {
          "output_type": "stream",
          "name": "stdout",
          "text": [
            "Equal\n"
          ]
        }
      ]
    },
    {
      "cell_type": "code",
      "metadata": {
        "id": "fqFS6XazATlj",
        "colab": {
          "base_uri": "https://localhost:8080/"
        },
        "outputId": "ee0839c8-7e20-4029-d7aa-a0ff7114fdce"
      },
      "source": [
        "x= 1/10\n",
        "y= 0.9/9*0.1*10\n",
        "if x == y :\n",
        "  print(\"Equal\")\n",
        "else:\n",
        "  print('Not equal')"
      ],
      "execution_count": null,
      "outputs": [
        {
          "output_type": "stream",
          "name": "stdout",
          "text": [
            "Not equal\n"
          ]
        }
      ]
    },
    {
      "cell_type": "code",
      "metadata": {
        "id": "WVHYX198CLZH",
        "colab": {
          "base_uri": "https://localhost:8080/"
        },
        "outputId": "a92bf258-c5b4-4d35-a41a-17e8c2f044b4"
      },
      "source": [
        "x= 1/10\n",
        "y= 0.9/9*0.1*10\n",
        "if round(x, 3) == round(y, 3) :\n",
        "  print(\"Equal\")\n",
        "else:\n",
        "  print('Not equal')"
      ],
      "execution_count": null,
      "outputs": [
        {
          "output_type": "stream",
          "name": "stdout",
          "text": [
            "Equal\n"
          ]
        }
      ]
    },
    {
      "cell_type": "code",
      "metadata": {
        "id": "flHMgdhCCQrb",
        "colab": {
          "base_uri": "https://localhost:8080/"
        },
        "outputId": "9ec79c5c-6337-4974-f80a-d08a95c44ec2"
      },
      "source": [
        "from math import isclose\n",
        "\n",
        "x= 1/10\n",
        "y= 0.9/9*0.1*10\n",
        "if isclose(x,y):\n",
        "  print(\"Equal\")\n",
        "else:\n",
        "  print('Not equal')"
      ],
      "execution_count": null,
      "outputs": [
        {
          "output_type": "stream",
          "name": "stdout",
          "text": [
            "Equal\n"
          ]
        }
      ]
    },
    {
      "cell_type": "markdown",
      "metadata": {
        "id": "2KgJoCSHvRWU"
      },
      "source": [
        "### ข้อความหรือสายอักขระ (String)\n",
        "ข้อความหรือสายอักขระ (string) จะแปลงแต่ละอักขระ (character) เป็นเลขฐานสองตามรูปแบบการเข้ารหัสข้อความเช่น Unicode หรือ ASCII ดังตัวอย่าง [Unicode](https://jrgraphix.net/r/Unicode/0E00-0E7F)\n",
        "\n",
        "การระบุข้อความสามารถระบุได้ 3 แบบดังนี้\n",
        "```python\n",
        "'Single quote'\n",
        "\"Double quotes\"\n",
        "'''Triple quote for\n",
        " multiple lines text'''\n",
        "```"
      ]
    },
    {
      "cell_type": "code",
      "metadata": {
        "id": "1BAuB5EcG4Vq",
        "colab": {
          "base_uri": "https://localhost:8080/"
        },
        "outputId": "0519b8e5-9241-4ff6-d93c-d99bede00ca8"
      },
      "source": [
        "message1 = 'Single quote'\n",
        "message2 = \"Double quotes\"\n",
        "message3 = '''Triple quote for\n",
        "multiple lines text'''\n",
        "\n",
        "print(message1)\n",
        "print(message2)\n",
        "print(message3)"
      ],
      "execution_count": null,
      "outputs": [
        {
          "output_type": "stream",
          "name": "stdout",
          "text": [
            "Single quote\n",
            "Double quotes\n",
            "Triple quote for \n",
            "multiple lines text\n"
          ]
        }
      ]
    },
    {
      "cell_type": "markdown",
      "metadata": {
        "id": "ipC7Mlgg_TkK"
      },
      "source": [
        "### 💡 Hands on\n",
        "\n",
        "* เขียนโปรแกรมเพื่อแปลงองศาเซลเซียสเป็นฟาเรนไฮ $F=C\\times9/5+32$ แล้วแสดงผลการแปลงเป็นทศนิยม 2 หลัก\n",
        "\n",
        "* บริษัทส่งของใช้ข้อมูลดังในตารางด้านล่างเพื่อคำนวณค่าขนส่งที่มีค่าขึ้นอยู่กับน้ำหนักของสิ่งของ นอกจากนี้ยังมีค่าธรรมเนียมการส่งอีก 10 บาท ให้เขียน function เพื่อรับน้ำหนักของสิ่งของแล้วคิดค่าขนส่งรวมส่งคืนกลับมา\n",
        "\n",
        "\n",
        "|Weight  (Kilograms)|Shipping rates (Baht)|\n",
        "| :--------: | :-------: |\n",
        "|0 - 0.2|30|\n",
        "|0.2 - 0.5|45|\n",
        "|0.5 - 1|60|\n",
        "|1 - 2|75|\n",
        "\n",
        "\n",
        "* สมมติให้เขียนโปรแกรมบนอุปกรณ์พกพาเพื่อใช้ในการแจ้งเตือน โดยวัดระยะห่างระหว่างอุปกรณ์พกพา 2 อุปกรณ์\n",
        "โดยเขียนเป็นฟังก์ชันที่รับค่าตำแหน่งของ 2 อุปกรณ์เข้าไปเพื่อคำนวณระยะห่างตามสมการ $distance=(x_2-x_1)^2+(y_2-y_1)^2$\n",
        " ซึ่งมีอุปกรณ์ที่ต้องการแจ้งเตือนมี 2 แบบ คือแบบที่ต้องใช้ใกล้ตัว (type A) และแบบที่สามารถอยู่ไกลตัวผู้ใช้ได้มากกว่า (type B) โดยมีเงื่อนไขของระยะห่างดังนี้\n",
        "\n",
        "|แบบใกล้ตัว (type A)|แบบไกลตัว (type B)|ระดับของการแจ้งเตือน (level)|\n",
        "| --- | --- | :---: |\n",
        "|< 10|< 50|0|\n",
        "|10-15 <br> (รวม 10 ด้วยแต่ไม่รวม 15)|50-100<br>(รวม 50 ด้วยแต่ไม่รวม 100)|1|\n",
        "|15-20<br>(รวม 15 ด้วยแต่ไม่รวม 20)|100-150 <br>(รวม 100 ด้วยแต่ไม่รวม 150)|2|\n",
        "|>= 20|>=150|3|\n",
        "\n",
        "|ระดับของการแจ้งเตือน (level)| ความหมาย |\n",
        "| --- | --- |\n",
        "|0|Safe zone|\n",
        "|1|Warning! Yellow zone|\n",
        "|2|Warning! Red zone|\n",
        "|3|Out of the safe zone!|"
      ]
    },
    {
      "cell_type": "markdown",
      "metadata": {
        "id": "UISdQ1NsoeiF"
      },
      "source": [
        "## การเก็บหลายค่าในตัวแปรเดียว (collection)\n",
        "\n",
        "มีหลายกรณีในขณะที่เราเขียนโปรแกรมเราจะต้องการเก็บค่าหรือข้อมูลไว้ในตัวแปรเดียวเพื่อความสะดวกในการเขียนโปรแกรมและการจัดการซึ่งทุกภาษาโปรแกรมก็เตรียมความสามารถเหล่านี้ไว้ให้"
      ]
    },
    {
      "cell_type": "markdown",
      "metadata": {
        "id": "Dj3zjbbLGnZ0"
      },
      "source": [
        "### Tuple: เก็บหลายค่าแบบเปลี่ยนค่าไม่ได้ในขณะทำงาน\n",
        "\n",
        "การเก็บ\n",
        "```python\n",
        "days_en = ('Sunday', 'Monday', 'Tuesday', 'Wednesday', 'Thursday', 'Friday', 'Saturday')  \n",
        "rgb = ('Red', 'Green', 'Blue')\n",
        "```\n",
        "การเข้าถึงเพื่อเอาไปใช้สามารถระบุโดยใช้ดัชนีเพื่อระบุตำแหน่งซึ่งจะเริ่มต้นตั้งแต่ 0 เช่น\n",
        "```days_en[0] ```\n",
        "จะหมายถึงค่า ณ ตำแหน่งแรกซึ่งในที่นี้มีค่าเป็น ```Sunday ```"
      ]
    },
    {
      "cell_type": "code",
      "metadata": {
        "id": "m2wRs6HHjvIa",
        "colab": {
          "base_uri": "https://localhost:8080/"
        },
        "outputId": "405aa3ae-8bf2-4108-c486-c0855f8e451d"
      },
      "source": [
        "days_en = ('Sunday', 'Monday', 'Tuesday', 'Wednesday', 'Thursday', 'Friday', 'Saturday')\n",
        "days_th= ('อาทิตย์','จันทร์','อังคาร','พุธ','พฤหัส','ศุกร์','เสาร์')\n",
        "\n",
        "print(days_en[0])\n",
        "print(days_th[0])\n",
        "\n",
        "rgb = ('Red', 'Green', 'Blue')\n",
        "print(rgb[0])\n",
        "print(rgb[1])\n",
        "print(rgb[2])"
      ],
      "execution_count": null,
      "outputs": [
        {
          "output_type": "stream",
          "name": "stdout",
          "text": [
            "Sunday\n",
            "อาทิตย์\n",
            "Red\n",
            "Green\n",
            "Blue\n"
          ]
        }
      ]
    },
    {
      "cell_type": "code",
      "metadata": {
        "id": "fD_KsDo8lwZk",
        "colab": {
          "base_uri": "https://localhost:8080/"
        },
        "outputId": "c593248b-8dfe-4eff-9bcc-81d76f9407a4"
      },
      "source": [
        "n=len(days_en)\n",
        "for i in range(n):\n",
        "  print(days_en[i])\n",
        "\n",
        "print('------------')\n",
        "\n",
        "for day in days_en:\n",
        "  print(day)"
      ],
      "execution_count": null,
      "outputs": [
        {
          "output_type": "stream",
          "name": "stdout",
          "text": [
            "Sunday\n",
            "Monday\n",
            "Tuesday\n",
            "Wednesday\n",
            "Thursday\n",
            "Friday\n",
            "Saturday\n",
            "------------\n",
            "Sunday\n",
            "Monday\n",
            "Tuesday\n",
            "Wednesday\n",
            "Thursday\n",
            "Friday\n",
            "Saturday\n"
          ]
        }
      ]
    },
    {
      "cell_type": "markdown",
      "metadata": {
        "id": "YnRfCPOXGqaw"
      },
      "source": [
        "### List: เก็บหลายค่าแบบเปลี่ยนค่าได้ในขณะทำงาน\n",
        "\n",
        "List สามารถใช้เก็บข้อมูลย้ายข้อมูลไว้ในตัวแปรเดียวเช่นเดียวกับ tuple แต่มีความสามารถมากกว่าโดยเฉพาะสามารถแก้ไขได้ ซึ่งก็ทำให้ต้องการใช้พื้นที่และการประเมินผลมากกว่า tuple เล็กน้อย"
      ]
    },
    {
      "cell_type": "code",
      "metadata": {
        "id": "yYZCoigcoiTS"
      },
      "source": [
        "a=[1,2,3] # list"
      ],
      "execution_count": null,
      "outputs": []
    },
    {
      "cell_type": "code",
      "metadata": {
        "id": "fpCSQn7OovAN",
        "colab": {
          "base_uri": "https://localhost:8080/"
        },
        "outputId": "c8930d0c-9010-4bcc-cb83-4505fdb87eef"
      },
      "source": [
        "# list\n",
        "a=[1,2,3] # list\n",
        "print(a[0])\n",
        "print(a[-1])\n",
        "print(a)\n",
        "\n",
        "a[2]=500\n",
        "print(a)\n",
        "print(len(a))\n",
        "\n",
        "a=a+[6]\n",
        "a=a+[6,7]\n",
        "a=a+[[15,6]]\n",
        "a=a+[(15,6)]\n",
        "a.append([7])\n",
        "a.append(8)\n",
        "a.append(\"aaa\")\n",
        "a=a+[\"bbb\"]\n",
        "\n",
        "a[6][1]=100\n",
        "print(a)\n",
        "for i in a:\n",
        "  print(i)\n",
        "\n",
        "for i in range(len(a)):\n",
        "  print(a[i])"
      ],
      "execution_count": null,
      "outputs": [
        {
          "output_type": "stream",
          "name": "stdout",
          "text": [
            "1\n",
            "3\n",
            "[1, 2, 3]\n",
            "[1, 2, 500]\n",
            "3\n",
            "[1, 2, 500, 6, 6, 7, [15, 100], (15, 6), [7], 8, 'aaa', 'bbb']\n",
            "1\n",
            "2\n",
            "500\n",
            "6\n",
            "6\n",
            "7\n",
            "[15, 100]\n",
            "(15, 6)\n",
            "[7]\n",
            "8\n",
            "aaa\n",
            "bbb\n",
            "1\n",
            "2\n",
            "500\n",
            "6\n",
            "6\n",
            "7\n",
            "[15, 100]\n",
            "(15, 6)\n",
            "[7]\n",
            "8\n",
            "aaa\n",
            "bbb\n"
          ]
        }
      ]
    },
    {
      "cell_type": "code",
      "metadata": {
        "id": "YBP6uGjfJ-Wf",
        "colab": {
          "base_uri": "https://localhost:8080/"
        },
        "outputId": "acabff1b-6eea-4bac-f938-662c7a9f2695"
      },
      "source": [
        "print(a)\n",
        "print(a[-3])"
      ],
      "execution_count": null,
      "outputs": [
        {
          "output_type": "stream",
          "name": "stdout",
          "text": [
            "[1, 2, 500, 6, 6, 7, [15, 100], (15, 6), [7], 8, 'aaa', 'bbb']\n",
            "8\n"
          ]
        }
      ]
    },
    {
      "cell_type": "markdown",
      "metadata": {
        "id": "5a-QrY5Moyps"
      },
      "source": [
        "#### Access list"
      ]
    },
    {
      "cell_type": "code",
      "metadata": {
        "id": "rUsvvjXUoyF4",
        "colab": {
          "base_uri": "https://localhost:8080/"
        },
        "outputId": "5f4c367c-5183-4122-bd5e-107c48df98d6"
      },
      "source": [
        "# index\n",
        "hall = 11.25\n",
        "kit = 18.0\n",
        "liv = 20.0\n",
        "bed = 10.75\n",
        "bath = 9.50\n",
        "house = [[\"hallway\", hall],\n",
        "         [\"kitchen\", kit],\n",
        "         [\"living room\", liv],\n",
        "         [\"bedroom\", bed],\n",
        "         [\"bathroom\", bath]]\n",
        "print(house[0])\n",
        "print(house[0][1])\n",
        "\n",
        "# List slicing\n",
        "print(house[0:2]) # 0,1\n",
        "\n",
        "print(house[:2]) # 0,1\n",
        "print(house[2:]) # 2,3,4"
      ],
      "execution_count": null,
      "outputs": [
        {
          "output_type": "stream",
          "name": "stdout",
          "text": [
            "['hallway', 11.25]\n",
            "11.25\n",
            "[['hallway', 11.25], ['kitchen', 18.0]]\n",
            "[['hallway', 11.25], ['kitchen', 18.0]]\n",
            "[['living room', 20.0], ['bedroom', 10.75], ['bathroom', 9.5]]\n"
          ]
        }
      ]
    },
    {
      "cell_type": "markdown",
      "metadata": {
        "id": "sdHep7jGpjc9"
      },
      "source": [
        "#### list operation"
      ]
    },
    {
      "cell_type": "code",
      "metadata": {
        "id": "Izy0IFLspjEU"
      },
      "source": [
        "# list\n",
        "height = [1.87,  1.87, 1.82, 1.91, 1.90, 1.85]\n",
        "weight = [81.65, 97.52, 95.25, 92.98, 86.18, 88.45]"
      ],
      "execution_count": null,
      "outputs": []
    },
    {
      "cell_type": "code",
      "metadata": {
        "id": "wxKpB5RvpqB1",
        "colab": {
          "base_uri": "https://localhost:8080/"
        },
        "outputId": "97b2e3f2-96f7-4a73-bb58-13813dbdc0a9"
      },
      "source": [
        "new=[]\n",
        "for i in range(len(height)):\n",
        "  new.append(height[i]+weight[i])\n",
        "new"
      ],
      "execution_count": null,
      "outputs": [
        {
          "output_type": "execute_result",
          "data": {
            "text/plain": [
              "[83.52000000000001, 99.39, 97.07, 94.89, 88.08000000000001, 90.3]"
            ]
          },
          "metadata": {},
          "execution_count": 50
        }
      ]
    },
    {
      "cell_type": "code",
      "metadata": {
        "id": "CB8UfFE9pnd4",
        "colab": {
          "base_uri": "https://localhost:8080/"
        },
        "outputId": "cd5b97e1-5d4b-4119-9b7c-1f1675afbe79"
      },
      "source": [
        "new=height+weight\n",
        "new"
      ],
      "execution_count": null,
      "outputs": [
        {
          "output_type": "execute_result",
          "data": {
            "text/plain": [
              "[1.87, 1.87, 1.82, 1.91, 1.9, 1.85, 81.65, 97.52, 95.25, 92.98, 86.18, 88.45]"
            ]
          },
          "metadata": {},
          "execution_count": 51
        }
      ]
    },
    {
      "cell_type": "code",
      "metadata": {
        "id": "l9dekZxsyuTG"
      },
      "source": [
        "# ex\n",
        "def fib2(n):   # return Fibonacci series up to n\n",
        "    result = []\n",
        "    a, b = 0, 1\n",
        "    while a < n:\n",
        "        result.append(a)\n",
        "        a, b = b, a+b\n",
        "    return result"
      ],
      "execution_count": null,
      "outputs": []
    },
    {
      "cell_type": "code",
      "metadata": {
        "id": "a_ZECPzcKwaQ",
        "colab": {
          "base_uri": "https://localhost:8080/"
        },
        "outputId": "6b29c744-e7c2-46b5-ca70-0d5fc2c3a2ca"
      },
      "source": [
        "the_fib=fib2(10)\n",
        "the_fib"
      ],
      "execution_count": null,
      "outputs": [
        {
          "output_type": "execute_result",
          "data": {
            "text/plain": [
              "[0, 1, 1, 2, 3, 5, 8]"
            ]
          },
          "metadata": {},
          "execution_count": 53
        }
      ]
    },
    {
      "cell_type": "markdown",
      "metadata": {
        "id": "Vo4661lf4mjm"
      },
      "source": [
        "#### Loop Lists"
      ]
    },
    {
      "cell_type": "code",
      "metadata": {
        "id": "6Xh1nXta4nzK",
        "colab": {
          "base_uri": "https://localhost:8080/"
        },
        "outputId": "c9f86735-6842-4d6e-d059-b358aba9fc03"
      },
      "source": [
        "# for loop\n",
        "thislist = [\"apple\", \"banana\", \"cherry\"]\n",
        "for i in range(len(thislist)):\n",
        "  print(thislist[i])"
      ],
      "execution_count": null,
      "outputs": [
        {
          "output_type": "stream",
          "name": "stdout",
          "text": [
            "apple\n",
            "banana\n",
            "cherry\n"
          ]
        }
      ]
    },
    {
      "cell_type": "code",
      "metadata": {
        "id": "cCUh2xqg4srd",
        "colab": {
          "base_uri": "https://localhost:8080/"
        },
        "outputId": "7341bedc-d159-41a5-9d8f-abb43df74057"
      },
      "source": [
        "# foreach\n",
        "thislist = [\"apple\", \"banana\", \"cherry\"]\n",
        "for x in thislist:\n",
        "  print(x)"
      ],
      "execution_count": null,
      "outputs": [
        {
          "output_type": "stream",
          "name": "stdout",
          "text": [
            "apple\n",
            "banana\n",
            "cherry\n"
          ]
        }
      ]
    },
    {
      "cell_type": "code",
      "metadata": {
        "id": "t0EILqb94ume",
        "colab": {
          "base_uri": "https://localhost:8080/"
        },
        "outputId": "a7b3ce0e-92b3-415d-cb7b-8587b9c13a9d"
      },
      "source": [
        "# While Loop\n",
        "thislist = [\"apple\", \"banana\", \"cherry\"]\n",
        "i = 0\n",
        "while i < len(thislist):\n",
        "  print(thislist[i])\n",
        "  i = i + 1"
      ],
      "execution_count": null,
      "outputs": [
        {
          "output_type": "stream",
          "name": "stdout",
          "text": [
            "apple\n",
            "banana\n",
            "cherry\n"
          ]
        }
      ]
    },
    {
      "cell_type": "markdown",
      "metadata": {
        "id": "I58TASAj8YJo"
      },
      "source": [
        "#### List Comprehension"
      ]
    },
    {
      "cell_type": "code",
      "metadata": {
        "id": "N7cWoVD-4xl-",
        "colab": {
          "base_uri": "https://localhost:8080/"
        },
        "outputId": "5e380fbe-ffb8-4f42-8541-16576659c79f"
      },
      "source": [
        "# List Comprehension\n",
        "# newlist = [expression for item in iterable if condition == True]\n",
        "\n",
        "thislist = [\"apple\", \"banana\", \"cherry\"]\n",
        "[print(x) for x in thislist]"
      ],
      "execution_count": null,
      "outputs": [
        {
          "output_type": "stream",
          "name": "stdout",
          "text": [
            "apple\n",
            "banana\n",
            "cherry\n"
          ]
        },
        {
          "output_type": "execute_result",
          "data": {
            "text/plain": [
              "[None, None, None]"
            ]
          },
          "metadata": {},
          "execution_count": 57
        }
      ]
    },
    {
      "cell_type": "code",
      "metadata": {
        "id": "bUaBJ_Ii5Sl6",
        "colab": {
          "base_uri": "https://localhost:8080/"
        },
        "outputId": "8b119723-6603-4269-f943-b204e37fe8b7"
      },
      "source": [
        "# List Comprehension\n",
        "fruits = [\"apple\", \"banana\", \"cherry\", \"kiwi\", \"mango\"]\n",
        "newlist = []\n",
        "\n",
        "for x in fruits:\n",
        "  if \"a\" in x:\n",
        "    newlist.append(x)\n",
        "\n",
        "print(newlist)"
      ],
      "execution_count": null,
      "outputs": [
        {
          "output_type": "stream",
          "name": "stdout",
          "text": [
            "['apple', 'banana', 'mango']\n"
          ]
        }
      ]
    },
    {
      "cell_type": "code",
      "metadata": {
        "id": "RK3YQjQW5WwX",
        "colab": {
          "base_uri": "https://localhost:8080/"
        },
        "outputId": "f987d03c-8bd5-4ed2-a7c8-031620ede19b"
      },
      "source": [
        "# List Comprehension\n",
        "\n",
        "fruits = [\"apple\", \"banana\", \"cherry\", \"kiwi\", \"mango\"]\n",
        "\n",
        "newlist = [x for x in fruits if \"a\" in x]\n",
        "\n",
        "print(newlist)"
      ],
      "execution_count": null,
      "outputs": [
        {
          "output_type": "stream",
          "name": "stdout",
          "text": [
            "['apple', 'banana', 'mango']\n"
          ]
        }
      ]
    },
    {
      "cell_type": "markdown",
      "metadata": {
        "id": "gzvcr9MrZbzC"
      },
      "source": [
        "### Dictionary\n",
        "\n",
        "Dictionary เป็นการเก็บหลายค่าในตัวแปรเดียวที่มีความสามารถมากขึ้น\n",
        "\n",
        "Dictionary จะเก็บ key-value คู่กันและไม่มีการเก็บซ้ำ"
      ]
    },
    {
      "cell_type": "code",
      "metadata": {
        "id": "EH4Mo73ghgMn",
        "colab": {
          "base_uri": "https://localhost:8080/"
        },
        "outputId": "0f9f4acd-01a0-4cef-9d2c-8c0167d9db9b"
      },
      "source": [
        "tel = {'jack': 4098, 'sape': 4139}\n",
        "tel['guido'] = 4127\n",
        "print(tel)\n",
        "\n",
        "del tel['sape']\n",
        "tel['irv'] = 4127\n",
        "print(tel)\n",
        "print(list(tel))\n",
        "print(sorted(tel))\n",
        "print('guido' in tel)\n",
        "print('jack' not in tel)\n",
        "\n",
        "for k, v in tel.items():\n",
        "  print(k, v)"
      ],
      "execution_count": null,
      "outputs": [
        {
          "output_type": "stream",
          "name": "stdout",
          "text": [
            "{'jack': 4098, 'sape': 4139, 'guido': 4127}\n",
            "{'jack': 4098, 'guido': 4127, 'irv': 4127}\n",
            "['jack', 'guido', 'irv']\n",
            "['guido', 'irv', 'jack']\n",
            "True\n",
            "False\n",
            "jack 4098\n",
            "guido 4127\n",
            "irv 4127\n"
          ]
        }
      ]
    },
    {
      "cell_type": "code",
      "metadata": {
        "id": "pcfPoYkAaMx0",
        "colab": {
          "base_uri": "https://localhost:8080/"
        },
        "outputId": "162dfbdb-c544-4ecf-8301-cfde0a3716aa"
      },
      "source": [
        "# การสร้าง Dictionary จาก List\n",
        "dict([('sape', 4139), ('guido', 4127), ('jack', 4098)])"
      ],
      "execution_count": null,
      "outputs": [
        {
          "output_type": "execute_result",
          "data": {
            "text/plain": [
              "{'guido': 4127, 'jack': 4098, 'sape': 4139}"
            ]
          },
          "metadata": {},
          "execution_count": 62
        }
      ]
    },
    {
      "cell_type": "code",
      "metadata": {
        "id": "T22Y5gOmJe6X"
      },
      "source": [
        "person = {\n",
        "    'first_name': 'John',\n",
        "    'last_name': 'Doe',\n",
        "    'age': 25,\n",
        "    'favorite_colors': ['blue', 'green'],\n",
        "    'active': True\n",
        "}"
      ],
      "execution_count": null,
      "outputs": []
    },
    {
      "cell_type": "code",
      "metadata": {
        "id": "JhgjWbf1FtQy",
        "colab": {
          "base_uri": "https://localhost:8080/"
        },
        "outputId": "8f2d98c1-f473-403d-c101-777366ac352c"
      },
      "source": [
        "print(person['first_name'])\n",
        "print(person['last_name'])\n",
        "# print(person['ssn']) #KeyError: 'ssn'\n",
        "print(person.get('first_name'))\n",
        "ssn = person.get('ssn', '000-00-0000')\n",
        "print(ssn)"
      ],
      "execution_count": null,
      "outputs": [
        {
          "output_type": "stream",
          "name": "stdout",
          "text": [
            "John\n",
            "Doe\n",
            "John\n",
            "000-00-0000\n"
          ]
        }
      ]
    },
    {
      "cell_type": "code",
      "metadata": {
        "id": "XiIeh9CHIfde"
      },
      "source": [
        "stocks = {\n",
        "    'AAPL': 121,\n",
        "    'AMZN': 3380,\n",
        "    'MSFT': 219,\n",
        "    'BIIB': 280,\n",
        "    'QDEL': 266,\n",
        "    'LVGO': 144\n",
        "}"
      ],
      "execution_count": null,
      "outputs": []
    },
    {
      "cell_type": "code",
      "metadata": {
        "id": "8PH17GwqKN84",
        "colab": {
          "base_uri": "https://localhost:8080/"
        },
        "outputId": "b50d5e1c-9829-4dc7-9303-e6fb486cd242"
      },
      "source": [
        "new_stocks = {}\n",
        "for symbol, price in stocks.items():\n",
        "    new_stocks[symbol] = price*1.02\n",
        "\n",
        "print(new_stocks)"
      ],
      "execution_count": null,
      "outputs": [
        {
          "output_type": "stream",
          "name": "stdout",
          "text": [
            "{'AAPL': 123.42, 'AMZN': 3447.6, 'MSFT': 223.38, 'BIIB': 285.6, 'QDEL': 271.32, 'LVGO': 146.88}\n"
          ]
        }
      ]
    },
    {
      "cell_type": "code",
      "metadata": {
        "id": "T7UdzmedKJXC",
        "colab": {
          "base_uri": "https://localhost:8080/"
        },
        "outputId": "0c1b7f8d-3a7e-40c9-9e15-3e4711d0097a"
      },
      "source": [
        "new_stocks = {symbol: price * 1.02 for (symbol, price) in stocks.items()}\n",
        "\n",
        "print(new_stocks)"
      ],
      "execution_count": null,
      "outputs": [
        {
          "output_type": "stream",
          "name": "stdout",
          "text": [
            "{'AAPL': 123.42, 'AMZN': 3447.6, 'MSFT': 223.38, 'BIIB': 285.6, 'QDEL': 271.32, 'LVGO': 146.88}\n"
          ]
        }
      ]
    },
    {
      "cell_type": "markdown",
      "metadata": {
        "id": "0kkkECqD6us-"
      },
      "source": [
        "### Set\n",
        "\n",
        "**Set** เก็บข้อมูลที่ไม่ซ้ำกันและเปลี่ยนแปลงค่าไม่ได้ สามารถใช้เก็บตัว ตัวเลขลิงเพชรบูรณ์ได้แต่ไม่สามารถใช้เก็บ List และ Dictionary ได้ ใช้สัญลักษณ์ `{}` ในการกำหนดค่า"
      ]
    },
    {
      "cell_type": "code",
      "metadata": {
        "id": "pGNP54H_NPA3"
      },
      "source": [
        "skills = {'Python programming','Databases', 'Software design'}"
      ],
      "execution_count": null,
      "outputs": []
    },
    {
      "cell_type": "code",
      "metadata": {
        "id": "5an6z_IANQCw",
        "colab": {
          "base_uri": "https://localhost:8080/"
        },
        "outputId": "716fa504-cd2b-455e-a435-b038ff334626"
      },
      "source": [
        "skills.add('Python programming')\n",
        "skills.add('Problem solving')\n",
        "print(skills)"
      ],
      "execution_count": null,
      "outputs": [
        {
          "output_type": "stream",
          "name": "stdout",
          "text": [
            "{'Software design', 'Python programming', 'Databases', 'Problem solving'}\n"
          ]
        }
      ]
    },
    {
      "cell_type": "code",
      "metadata": {
        "id": "keTE5GXaNtSW",
        "colab": {
          "base_uri": "https://localhost:8080/"
        },
        "outputId": "bce58561-196c-40a7-8bef-4a83552e39b7"
      },
      "source": [
        "skills.remove('Software design')\n",
        "print(skills)"
      ],
      "execution_count": null,
      "outputs": [
        {
          "output_type": "stream",
          "name": "stdout",
          "text": [
            "{'Python programming', 'Databases', 'Problem solving'}\n"
          ]
        }
      ]
    },
    {
      "cell_type": "markdown",
      "metadata": {
        "id": "Lugo_857_kh1"
      },
      "source": [
        "### 💡 Hands on\n",
        "\n",
        "* โปรแกรมหาค่าเฉลี่ย\n",
        "* โปรแกรมหาค่าสูงสุดและต่ำสุด\n",
        "* โปรแกรมหาค่าแรกที่ซ้ำกัน 3 ครั้งติดกัน\n"
      ]
    },
    {
      "cell_type": "markdown",
      "metadata": {
        "id": "Xaq3cl8DLol3"
      },
      "source": [
        "# **Frequently used syntax**\n",
        "\n",
        "Indentation\n",
        "2 or 4 whitespaces indentation (normally)\n",
        "```python\n",
        "for i in range(5):\n",
        "    print(i)\n",
        "\n",
        "def my_function():\n",
        "    print(‘hello world’)\n",
        "\n",
        "```\n",
        "\n",
        "String\n",
        "```python\n",
        "'Single quote'\n",
        "\"Double quotes\"\n",
        "'''Triple quote for\n",
        " multiple lines text'''\n",
        "```\n",
        "\n",
        "Comments\n",
        "```python\n",
        "# hash character for single line comment\n",
        "'''Triple quote for\n",
        "multiple lines comment'''\n",
        "```\n",
        "\n",
        "\n",
        "\n",
        "(Parentheses), {Curly Braces}, [Square Brackets]\n",
        "\n",
        "(Parentheses)\n",
        "\n",
        "* Expression grouping:   \t\t```x = ((1 + 2) *( 3 + 4) )/( 5 + 6)```\n",
        "* Function call:    \t\t```print('foo', 'bar', 'baz')```\n",
        "* Method call:\t\t\t\t```'abc'.center(9, '-')```\n",
        "* Tuple definition: \t\t\t```t = ('a', \"b\", '''c''', 'd')```\n",
        "\n",
        "{Curly Braces}\n",
        "* Dictionary definition: \t\t```d = {'a': 1, 'b': 2}```\n",
        "* Set definition:\t\t\t```x1 = {'foo', 'bar', 'baz'}```\n",
        "\n",
        "[Square Brackets]\n",
        "* List definition:\t\t\t```a = ['a', 'b', 'c', 'd']```\n",
        "* Indexing: \t\t\t\t```a[0]```\n",
        "* Slicing: \t\t\t\t\t```a[1:3]```\n",
        "* Dictionary key reference:\t```d['b']```"
      ]
    }
  ]
}